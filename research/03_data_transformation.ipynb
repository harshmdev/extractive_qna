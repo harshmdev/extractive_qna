{
 "cells": [
  {
   "cell_type": "code",
   "execution_count": 1,
   "metadata": {},
   "outputs": [
    {
     "data": {
      "text/plain": [
       "'x:\\\\deep_learning\\\\extractive_qna\\\\research'"
      ]
     },
     "execution_count": 1,
     "metadata": {},
     "output_type": "execute_result"
    }
   ],
   "source": [
    "%pwd"
   ]
  },
  {
   "cell_type": "code",
   "execution_count": 2,
   "metadata": {},
   "outputs": [],
   "source": [
    "import os\n",
    "os.chdir(\"../\")"
   ]
  },
  {
   "cell_type": "code",
   "execution_count": 5,
   "metadata": {},
   "outputs": [
    {
     "data": {
      "text/plain": [
       "'x:\\\\deep_learning\\\\extractive_qna'"
      ]
     },
     "execution_count": 5,
     "metadata": {},
     "output_type": "execute_result"
    }
   ],
   "source": [
    "%pwd"
   ]
  },
  {
   "cell_type": "code",
   "execution_count": 6,
   "metadata": {},
   "outputs": [],
   "source": [
    "from dataclasses import dataclass\n",
    "from pathlib import Path\n",
    "\n",
    "@dataclass(frozen=True)\n",
    "class DataTransformationConfig:\n",
    "    root_dir: Path\n",
    "    data_path: Path"
   ]
  },
  {
   "cell_type": "code",
   "execution_count": 7,
   "metadata": {},
   "outputs": [],
   "source": [
    "from extractive_qna.constants import *\n",
    "from extractive_qna.utils.common import read_yaml, create_directories\n",
    "from extractive_qna.entity import DataTransformationConfig"
   ]
  },
  {
   "cell_type": "code",
   "execution_count": 8,
   "metadata": {},
   "outputs": [],
   "source": [
    "class ConfigurationManager:\n",
    "    def __init__(\n",
    "        self,\n",
    "        config_filepath = CONFIG_FILE_PATH,\n",
    "        params_filepath = PARAMS_FILE_PATH):\n",
    "\n",
    "        self.config = read_yaml(config_filepath)\n",
    "        self.params = read_yaml(params_filepath)\n",
    "\n",
    "        create_directories([self.config.artifacts_root])\n",
    "\n",
    "\n",
    "    def get_data_transformation_config(self) -> DataTransformationConfig:\n",
    "        config = self.config.data_transformation\n",
    "\n",
    "        create_directories([config.root_dir])\n",
    "\n",
    "        data_transformation_config = DataTransformationConfig(\n",
    "            root_dir=config.root_dir,\n",
    "            data_path=config.data_path\n",
    "        )\n",
    "\n",
    "        return data_transformation_config"
   ]
  },
  {
   "cell_type": "code",
   "execution_count": 15,
   "metadata": {},
   "outputs": [],
   "source": [
    "import os\n",
    "from extractive_qna.logging import logger\n",
    "from transformers import AutoTokenizer\n",
    "from datasets import load_dataset, load_from_disk\n",
    "import pandas as pd\n",
    "import operator"
   ]
  },
  {
   "cell_type": "code",
   "execution_count": 26,
   "metadata": {},
   "outputs": [],
   "source": [
    "import operator\n",
    "class DataTransformation:\n",
    "    \n",
    "    def __init__(self , config: DataTransformationConfig,max_length=400,stride=100):\n",
    "        self.config = config\n",
    "        self.tokenizer=AutoTokenizer.from_pretrained(MODEL_NAME)\n",
    "        self.max_length=max_length\n",
    "        self.stride=stride\n",
    "        \n",
    "    # Utility function to find the *last* occurrence of a sequence.\n",
    "    def rindex(self,lst, value):\n",
    "        import operator\n",
    "        x = len(lst) - operator.indexOf(reversed(lst), value) - 1\n",
    "        return x\n",
    "    \n",
    "    def prepare_dataset(self,examples):\n",
    "        # Some tokenizers don't strip spaces. If there happens to be question text\n",
    "        # with excessive spaces, the context may not get encoded at all.\n",
    "        examples[\"question\"] = [q.lstrip() for q in examples[\"question\"]]\n",
    "        examples[\"context\"] = [c.lstrip() for c in examples[\"context\"]]\n",
    "\n",
    "        # Tokenize.\n",
    "        tokenized_examples = self.tokenizer(\n",
    "            examples['question'],\n",
    "            examples['context'],\n",
    "            truncation=\"only_second\",\n",
    "            max_length = self.max_length,\n",
    "            stride=self.stride,\n",
    "            return_overflowing_tokens=True,\n",
    "            return_offsets_mapping=True,\n",
    "            padding=\"max_length\"\n",
    "        )\n",
    "\n",
    "        # We'll collect a list of starting positions and ending positions.\n",
    "        tokenized_examples['start_positions'] = []\n",
    "        tokenized_examples['end_positions'] = []\n",
    "\n",
    "        # Work through every sequence.\n",
    "        for seq_idx in range(len(tokenized_examples['input_ids'])):\n",
    "            seq_ids = tokenized_examples.sequence_ids(seq_idx)\n",
    "            offset_mappings = tokenized_examples['offset_mapping'][seq_idx]\n",
    "\n",
    "            cur_example_idx = tokenized_examples['overflow_to_sample_mapping'][seq_idx]\n",
    "            answer = examples['answers'][cur_example_idx]\n",
    "            answer_text = answer['text'][0]\n",
    "            answer_start = answer['answer_start'][0]\n",
    "            answer_end = answer_start + len(answer_text)\n",
    "\n",
    "            context_pos_start = seq_ids.index(1)\n",
    "            context_pos_end = self.rindex(seq_ids, 1)\n",
    "\n",
    "            s = e = 0\n",
    "            if (offset_mappings[context_pos_start][0] <= answer_start and\n",
    "                offset_mappings[context_pos_end][1] >= answer_end):\n",
    "                i = context_pos_start\n",
    "                while offset_mappings[i][0] < answer_start:\n",
    "                    i += 1\n",
    "                if offset_mappings[i][0] == answer_start:\n",
    "                    s = i\n",
    "                else:\n",
    "                    s = i - 1\n",
    "\n",
    "                j = context_pos_end\n",
    "                while offset_mappings[j][1] > answer_end:\n",
    "                    j -= 1\n",
    "                if offset_mappings[j][1] == answer_end:\n",
    "                    e = j\n",
    "                else:\n",
    "                    e = j + 1\n",
    "\n",
    "            tokenized_examples['start_positions'].append(s)\n",
    "            tokenized_examples['end_positions'].append(e)\n",
    "\n",
    "        return tokenized_examples\n",
    "    \n",
    "    def convert(self):\n",
    "        dataset_squad=load_from_disk(self.config.data_path)\n",
    "        dataset_squad_tf=dataset_squad.map(self.prepare_dataset,batched=True,remove_columns=dataset_squad[\"train\"].column_names,num_proc=2,).remove_columns([\"offset_mapping\",\"overflow_to_sample_mapping\"])\n",
    "        dataset_squad_tf.save_to_disk(os.path.join(self.config.root_dir,\"squad_dataset\"))\n",
    "\n",
    "\n"
   ]
  },
  {
   "cell_type": "code",
   "execution_count": 27,
   "metadata": {},
   "outputs": [
    {
     "name": "stdout",
     "output_type": "stream",
     "text": [
      "[2024-08-10 12:43:51,015: INFO :common :yaml file: config\\config.yaml loaded successfully]\n",
      "[2024-08-10 12:43:51,018: INFO :common :yaml file: params.yaml loaded successfully]\n",
      "[2024-08-10 12:43:51,020: INFO :common :created directory at: artifacts]\n",
      "[2024-08-10 12:43:51,022: INFO :common :created directory at: artifacts/data_preparation]\n"
     ]
    },
    {
     "name": "stderr",
     "output_type": "stream",
     "text": [
      "Map (num_proc=2): 100%|██████████| 87599/87599 [02:09<00:00, 678.59 examples/s]\n",
      "Map (num_proc=2): 100%|██████████| 10570/10570 [00:29<00:00, 356.94 examples/s]\n",
      "Saving the dataset (1/1 shards): 100%|██████████| 88331/88331 [00:01<00:00, 61860.43 examples/s] \n",
      "Saving the dataset (1/1 shards): 100%|██████████| 10756/10756 [00:00<00:00, 205654.12 examples/s]\n"
     ]
    }
   ],
   "source": [
    "try:\n",
    "    config = ConfigurationManager()\n",
    "    data_transformation_config = config.get_data_transformation_config()\n",
    "    data_transformation = DataTransformation(config=data_transformation_config)\n",
    "    data_transformation.convert()\n",
    "except Exception as e:\n",
    "    raise e"
   ]
  },
  {
   "cell_type": "code",
   "execution_count": null,
   "metadata": {},
   "outputs": [],
   "source": [
    "\n"
   ]
  },
  {
   "cell_type": "code",
   "execution_count": null,
   "metadata": {},
   "outputs": [],
   "source": []
  },
  {
   "cell_type": "code",
   "execution_count": null,
   "metadata": {},
   "outputs": [],
   "source": []
  },
  {
   "cell_type": "code",
   "execution_count": null,
   "metadata": {},
   "outputs": [],
   "source": []
  }
 ],
 "metadata": {
  "kernelspec": {
   "display_name": "xqna",
   "language": "python",
   "name": "python3"
  },
  "language_info": {
   "codemirror_mode": {
    "name": "ipython",
    "version": 3
   },
   "file_extension": ".py",
   "mimetype": "text/x-python",
   "name": "python",
   "nbconvert_exporter": "python",
   "pygments_lexer": "ipython3",
   "version": "3.12.4"
  }
 },
 "nbformat": 4,
 "nbformat_minor": 2
}
